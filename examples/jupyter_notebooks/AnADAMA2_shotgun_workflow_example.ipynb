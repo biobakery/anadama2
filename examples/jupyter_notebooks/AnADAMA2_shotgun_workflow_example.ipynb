{
 "cells": [
  {
   "cell_type": "markdown",
   "metadata": {},
   "source": [
    "### AnADAMA2 Example: Shotgun workflow\n",
    "\n",
    "[AnADAMA2](http://huttenhower.sph.harvard.edu/anadama2) is the next generation of AnADAMA (Another Automated Data Analysis Management Application). AnADAMA is a tool to create reproducible workflows and execute them efficiently. Tasks can be run locally or in a grid computing environment to increase efficiency. Essential information from all tasks is recorded, using the default logger and command line reporters, to ensure reproducibility. A auto-doc feature allows for workflows to generate documentation automatically to further ensure reproducibility by capturing the latest essential workflow information. AnADAMA2 was architected to be modular allowing users to customize the application by subclassing the base grid meta-schedulers, reporters, and tracked objects (ie files, executables, etc).\n",
    "\n",
    "* For additional information, see the [AnADAMA2 User Manual](https://bitbucket.org/biobakery/anadama2) or the [AnADAMA2 Tutorial](https://bitbucket.org/biobakery/biobakery/wiki/anadama2).\n",
    "* For more example workflows, download the AnADAMA2 software source and demos ( [anadama2.tar.gz](https://pypi.python.org/pypi/anadama2) ).\n",
    "* Please direct questions to the [AnADAMA Google Group](https://groups.google.com/forum/#!forum/anadama-users).\n",
    "                                                        \n",
    "**This example shows a workflow for shotgun data processing.**\n"
   ]
  },
  {
   "cell_type": "markdown",
   "metadata": {},
   "source": [
    "**Step 1:** Import the workflow from anadama2. "
   ]
  },
  {
   "cell_type": "code",
   "execution_count": 1,
   "metadata": {
    "collapsed": true
   },
   "outputs": [],
   "source": [
    "from anadama2 import Workflow"
   ]
  },
  {
   "cell_type": "markdown",
   "metadata": {},
   "source": [
    "**Step 2:** Create a workflow instance. \n",
    "Since we are using Jupyter we need to turn off the command line interface for the workflow. \n",
    "The command line interface is helpful when executing a workflow directly from the command line. \n",
    "It allows the user to provide options like input/output folders at run-time. "
   ]
  },
  {
   "cell_type": "code",
   "execution_count": 2,
   "metadata": {
    "collapsed": true
   },
   "outputs": [],
   "source": [
    "workflow = Workflow(cli=False)"
   ]
  },
  {
   "cell_type": "markdown",
   "metadata": {},
   "source": [
    "**Step 3:** Set variables for the input, output, and database folders. If executing a workflow directly\n",
    "you can provide these variables on the command line with the options ``--input <DIR>`` and ``--output <DIR>``. \n",
    "Since we have turned off the command line interface for Jupyter, we set these variables in a code block. \n",
    "In this code block we also search for the input files in the input folder based on the input extension. \n",
    "Additionally, we create a set of output file basenames based on the input file names.\n",
    "\n",
    "* Demo input files can be downloaded from the [StrainPhlAn tutorial](https://bitbucket.org/biobakery/biobakery/wiki/strainphlan). All six input files need to be used for the StrainPhlAn tasks to create a tree. It is not enough to use a single sample.\n",
    "* The StrainPhlAn database files can be downloaded from \n",
    "[s__Eubacterium_siraeum.markers.fasta](https://bitbucket.org/biobakery/biobakery/raw/tip/demos/biobakery_demos/data/strainphlan/input/s__Eubacterium_siraeum.markers.fasta)\n",
    "and [GCF_000154325.fna.bz2](https://bitbucket.org/biobakery/biobakery/raw/tip/demos/biobakery_demos/data/strainphlan/input/GCF_000154325.fna.bz2).\n",
    "* The PanPhlAn database files for E. siraeum can be downloaded from [panphlan_esiraeum16.zip](https://www.dropbox.com/sh/rfwb4i9m8s40iba/AAAgqF9RUDOJljlr49AAzYUoa/panphlan_esiraeum16.zip?dl=0)."
   ]
  },
  {
   "cell_type": "code",
   "execution_count": 3,
   "metadata": {
    "collapsed": true
   },
   "outputs": [],
   "source": [
    "import os\n",
    "\n",
    "# set the input and output folders\n",
    "input_folder = \"input\"\n",
    "output_folder = \"output\"\n",
    "\n",
    "# get all of the input files with the expected extension\n",
    "input_extension = \"fasta\"\n",
    "input_files = [os.path.join(input_folder,file) for file in os.listdir(input_folder) if file.endswith(\".\"+input_extension)]\n",
    "output_file_basenames = [os.path.join(output_folder, os.path.basename(file).replace(\".\"+input_extension,\"\")) for file in input_files]\n",
    "\n",
    "# set the folders for database files\n",
    "strainphlan_db_folder = \"databases/strainphlan_db\"\n",
    "panphlan_db_folder = \"databases/panphlan_db\"\n",
    "panphlan_species=\"esiraeum16\"\n",
    "\n",
    "# get the paths to the database files needed by the workflow\n",
    "strainphlan_e_siraeum_reference=os.path.join(strainphlan_db_folder,\"GCF_000154325.fna.bz2\")\n",
    "strainphlan_e_siraeum_markers=os.path.join(strainphlan_db_folder,\"s__Eubacterium_siraeum.markers.fasta\")"
   ]
  },
  {
   "cell_type": "markdown",
   "metadata": {},
   "source": [
    "**Step 4:** Add tasks to run MetaPhlAn2 on all of the files in the input folder. \n",
    "[MetaPhlAn2](http://huttenhower.sph.harvard.edu/metaphlan2) can be used with shotgun data to identify microbial\n",
    "community composition. For more information on how to run MetaPhlAn2, see the [MetaPhlAn2 tutorial](https://bitbucket.org/biobakery/biobakery/wiki/metaphlan2)."
   ]
  },
  {
   "cell_type": "code",
   "execution_count": 4,
   "metadata": {
    "collapsed": true
   },
   "outputs": [],
   "source": [
    "# get the names of the metaphlan2 output files based on the input files\n",
    "taxon_profiles = [file_basename+\"_metaphlan2_taxonomy.tsv\" for file_basename in output_file_basenames]\n",
    "metaphlan2_sam = [file_basename+\"_metaphlan2_alignments.sam\" for file_basename in output_file_basenames]\n",
    "\n",
    "# add tasks to the workflow to run metaphlan2 on all input files\n",
    "for shotgun_file, profile, sam in zip(input_files, taxon_profiles, metaphlan2_sam):\n",
    "    workflow.add_task(\n",
    "        \"metaphlan2.py [depends[0]] --input_type [args[0]] --output_file [targets[0]] --samout [targets[1]] --no_map\",\n",
    "        depends=shotgun_file,\n",
    "        targets=[profile,sam],\n",
    "        args=input_extension)"
   ]
  },
  {
   "cell_type": "markdown",
   "metadata": {},
   "source": [
    "**Step 5:** Add tasks to run HUMAnN2 on all of the files in the input folder using the MetaPhlAn2 profiles. \n",
    "[HUMAnN2](http://huttenhower.sph.harvard.edu/humann2) (the HMP Unified Metabolic Analysis Network) is a tool for \n",
    "identifying metabolic pathways in metagenomic and metatranscriptomic sequencing data. For more information on how to run \n",
    "HUMAnn2, see the [HUMAnN2 tutorial](https://bitbucket.org/biobakery/biobakery/wiki/humann2)."
   ]
  },
  {
   "cell_type": "code",
   "execution_count": 5,
   "metadata": {
    "collapsed": true,
    "scrolled": true
   },
   "outputs": [],
   "source": [
    "# get the name of the expected humann2 output files based on the input files\n",
    "genefam=[file_basename+\"_genefamilies.tsv\" for file_basename in output_file_basenames]\n",
    "pathabund=[file_basename+\"_pathabundance.tsv\" for file_basename in output_file_basenames]\n",
    "pathcov=[file_basename+\"_pathcoverage.tsv\" for file_basename in output_file_basenames]\n",
    "\n",
    "# add tasks to the workflow to run humann2 on all input files\n",
    "# provide the metaphlan2 output as input (optional as humann2 can also compute the profile using metaphlan2)\n",
    "for shotgun_file, profile, genes, pathab, pathc in zip(input_files, taxon_profiles, genefam, pathabund, pathcov):\n",
    "    workflow.add_task(\n",
    "        \"humann2 --input [depends[0]] --taxonomic-profile [depends[1]] --output [args[0]]\",\n",
    "        depends=[shotgun_file, profile],\n",
    "        targets=[genes, pathab, pathc],\n",
    "        args=os.path.dirname(genes))"
   ]
  },
  {
   "cell_type": "markdown",
   "metadata": {},
   "source": [
    "**Step 6:** Add tasks to run StrainPhlAn using the MetaPhlAn2 output files as input. [StrainPhlAn](http://segatalab.cibio.unitn.it/tools/strainphlan/) identifies single\n",
    "nucleotide polymorphisms in unique marker genes to analyze shotgun sequencing data at a strain-level resolution. For \n",
    "more information on how to run StrainPhlAn2, see the [StrainPhlan tutorial](https://bitbucket.org/biobakery/biobakery/wiki/strainphlan)."
   ]
  },
  {
   "cell_type": "code",
   "execution_count": 6,
   "metadata": {
    "collapsed": true
   },
   "outputs": [],
   "source": [
    "# get the names of the marker output files\n",
    "strainphlan_markers = [file_basename+\"_metaphlan2_alignments.markers\" for file_basename in output_file_basenames]\n",
    "\n",
    "# create files of markers for each of the input files\n",
    "for sam, markers in zip(metaphlan2_sam,strainphlan_markers):\n",
    "    workflow.add_task(\n",
    "        \"sample2markers.py --ifn_samples [depends[0]] --input_type sam --output_dir [args[0]]\",\n",
    "        depends=sam,\n",
    "        targets=markers,\n",
    "        args=os.path.dirname(markers)) \n",
    "\n",
    "# add tasks to run strainphlan, using options (ie marker in clade) to allow for demo input files\n",
    "# notice for this add task we capture the task that is returned, this is optional\n",
    "# tasks can be provided as dependencies for other tasks in a workflow\n",
    "options=\" --marker_in_clade 0.2 --keep_alignment_files\"\n",
    "strainphlan_task=workflow.add_task(\n",
    "    \"strainphlan.py --ifn_samples [args[0]]/*.markers --ifn_markers [depends[0]] \"+\\\n",
    "    \"--ifn_ref_genomes [depends[1]] --output_dir [args[0]] --clades s__Eubacterium_siraeum \"+options,\n",
    "    depends=[strainphlan_e_siraeum_markers,strainphlan_e_siraeum_reference]+strainphlan_markers,\n",
    "    targets=os.path.join(output_folder,\"RAxML_bestTree.s__Eubacterium_siraeum.tree\"),\n",
    "    args=os.path.dirname(strainphlan_markers[0]))"
   ]
  },
  {
   "cell_type": "markdown",
   "metadata": {},
   "source": [
    "**Step 7:** Add PanPhlAn tasks to the workflow. [PanPhlAn](http://segatalab.cibio.unitn.it/tools/panphlan/) is a tool for strain identification and tracking along with functional analysis. \n",
    "For more information on how to run PanPhlAn, see the [PanPhlAn tutorial](https://bitbucket.org/CibioCM/panphlan/wiki/Tutorial)."
   ]
  },
  {
   "cell_type": "code",
   "execution_count": 7,
   "metadata": {
    "collapsed": true
   },
   "outputs": [],
   "source": [
    "# add the panphlan tasks after getting the names of the output files\n",
    "panphlan_genes = [file_basename+\"_\"+panphlan_species+\".csv.bz2\"  for file_basename in output_file_basenames]\n",
    "\n",
    "# map against species database\n",
    "# set small read length to allow for demo input files\n",
    "for fasta, gene in zip(input_files, panphlan_genes):\n",
    "    workflow.add_task(\n",
    "        \"panphlan_map.py -c [args[0]] -i [depends[0]] -o [targets[0]] --i_bowtie2_indexes [args[1]] --readLength 25\",\n",
    "        depends=fasta,\n",
    "        targets=gene,\n",
    "        args=[panphlan_species,panphlan_db_folder])\n",
    "\n",
    "# create gene family presence absence profile\n",
    "# use very sensitive thresholds for demo data\n",
    "panphlan_task=workflow.add_task(\n",
    "    \"panphlan_profile.py -c [args[0]] -i [args[1]] --o_dna [targets[0]] --i_bowtie2_indexes [args[2]] \"+\\\n",
    "    \"--min_coverage 1 --left_max 1.70 --right_min 0.30 --verbose\",\n",
    "     depends=panphlan_genes,\n",
    "     targets=os.path.join(output_folder,\"panphlan_gene_matrix.tsv\"),\n",
    "     args=[panphlan_species,os.path.dirname(panphlan_genes[0]),panphlan_db_folder])"
   ]
  },
  {
   "cell_type": "markdown",
   "metadata": {},
   "source": [
    "**Step 8:** Run the workflow with six tasks running in parallel."
   ]
  },
  {
   "cell_type": "code",
   "execution_count": 8,
   "metadata": {
    "scrolled": true
   },
   "outputs": [
    {
     "name": "stdout",
     "output_type": "stream",
     "text": [
      "(Jun 06 11:37:02) [ 0/26 -   0.00%] **Ready    ** Task 32: panphlan_map.py\n",
      "(Jun 06 11:37:02) [ 0/26 -   0.00%] **Ready    ** Task 10: metaphlan2.py\n",
      "(Jun 06 11:37:02) [ 0/26 -   0.00%] **Ready    ** Task 31: panphlan_map.py\n",
      "(Jun 06 11:37:02) [ 0/26 -   0.00%] **Ready    ** Task  8: metaphlan2.py\n",
      "(Jun 06 11:37:02) [ 0/26 -   0.00%] **Ready    ** Task 30: panphlan_map.py\n",
      "(Jun 06 11:37:02) [ 0/26 -   0.00%] **Ready    ** Task  6: metaphlan2.py\n",
      "(Jun 06 11:37:02) [ 0/26 -   0.00%] **Ready    ** Task 29: panphlan_map.py\n",
      "(Jun 06 11:37:02) [ 0/26 -   0.00%] **Ready    ** Task  4: metaphlan2.py\n",
      "(Jun 06 11:37:02) [ 0/26 -   0.00%] **Ready    ** Task 28: panphlan_map.py\n",
      "(Jun 06 11:37:02) [ 0/26 -   0.00%] **Ready    ** Task  2: metaphlan2.py\n",
      "(Jun 06 11:37:02) [ 0/26 -   0.00%] **Ready    ** Task 27: panphlan_map.py\n",
      "(Jun 06 11:37:02) [ 0/26 -   0.00%] **Ready    ** Task  0: metaphlan2.py\n",
      "(Jun 06 11:37:02) [ 0/26 -   0.00%] **Started  ** Task 32: panphlan_map.py\n",
      "(Jun 06 11:37:02) [ 0/26 -   0.00%] **Started  ** Task 10: metaphlan2.py\n",
      "(Jun 06 11:37:02) [ 0/26 -   0.00%] **Started  ** Task 31: panphlan_map.py\n",
      "(Jun 06 11:37:02) [ 0/26 -   0.00%] **Started  ** Task  8: metaphlan2.py\n",
      "(Jun 06 11:37:02) [ 0/26 -   0.00%] **Started  ** Task 30: panphlan_map.py\n",
      "(Jun 06 11:37:02) [ 0/26 -   0.00%] **Started  ** Task  6: metaphlan2.py\n",
      "(Jun 06 11:37:11) [ 0/26 -   0.00%] **Started  ** Task 29: panphlan_map.py\n",
      "(Jun 06 11:37:11) [ 1/26 -   3.85%] **Completed** Task 31: panphlan_map.py\n",
      "(Jun 06 11:37:12) [ 2/26 -   7.69%] **Started  ** Task  4: metaphlan2.py\n",
      "(Jun 06 11:37:12) [ 2/26 -   7.69%] **Started  ** Task 28: panphlan_map.py\n",
      "(Jun 06 11:37:12) [ 2/26 -   7.69%] **Completed** Task 32: panphlan_map.py\n",
      "(Jun 06 11:37:12) [ 3/26 -  11.54%] **Completed** Task 30: panphlan_map.py\n",
      "(Jun 06 11:37:20) [ 3/26 -  11.54%] **Started  ** Task  2: metaphlan2.py\n",
      "(Jun 06 11:37:20) [ 4/26 -  15.38%] **Completed** Task 29: panphlan_map.py\n",
      "(Jun 06 11:37:22) [ 5/26 -  19.23%] **Started  ** Task 27: panphlan_map.py\n",
      "(Jun 06 11:37:22) [ 5/26 -  19.23%] **Completed** Task 28: panphlan_map.py\n",
      "(Jun 06 11:37:32) [ 5/26 -  19.23%] **Started  ** Task  0: metaphlan2.py\n",
      "(Jun 06 11:37:32) [ 6/26 -  23.08%] **Completed** Task 27: panphlan_map.py\n",
      "(Jun 06 11:37:32) [ 6/26 -  23.08%] **Ready    ** Task 33: panphlan_profile.py\n",
      "(Jun 06 11:38:21) [ 7/26 -  26.92%] **Started  ** Task 33: panphlan_profile.py\n",
      "(Jun 06 11:38:21) [ 7/26 -  26.92%] **Completed** Task  8: metaphlan2.py\n",
      "(Jun 06 11:38:21) [ 7/26 -  26.92%] **Ready    ** Task 16: humann2\n",
      "(Jun 06 11:38:21) [ 7/26 -  26.92%] **Ready    ** Task 22: sample2markers.py\n",
      "(Jun 06 11:38:22) [ 7/26 -  26.92%] **Started  ** Task 16: humann2\n",
      "(Jun 06 11:38:22) [ 8/26 -  30.77%] **Completed** Task 33: panphlan_profile.py\n",
      "(Jun 06 11:38:24) [ 8/26 -  30.77%] **Started  ** Task 22: sample2markers.py\n",
      "(Jun 06 11:38:24) [ 9/26 -  34.62%] **Completed** Task 10: metaphlan2.py\n",
      "(Jun 06 11:38:24) [ 9/26 -  34.62%] **Ready    ** Task 17: humann2\n",
      "(Jun 06 11:38:24) [ 9/26 -  34.62%] **Ready    ** Task 23: sample2markers.py\n",
      "(Jun 06 11:38:26) [ 9/26 -  34.62%] **Started  ** Task 17: humann2\n",
      "(Jun 06 11:38:26) [10/26 -  38.46%] **Completed** Task  6: metaphlan2.py\n",
      "(Jun 06 11:38:26) [10/26 -  38.46%] **Ready    ** Task 21: sample2markers.py\n",
      "(Jun 06 11:38:26) [10/26 -  38.46%] **Ready    ** Task 15: humann2\n",
      "(Jun 06 11:38:38) [10/26 -  38.46%] **Started  ** Task 23: sample2markers.py\n",
      "(Jun 06 11:38:38) [11/26 -  42.31%] **Completed** Task  4: metaphlan2.py\n",
      "(Jun 06 11:38:38) [11/26 -  42.31%] **Ready    ** Task 20: sample2markers.py\n",
      "(Jun 06 11:38:38) [11/26 -  42.31%] **Ready    ** Task 14: humann2\n",
      "(Jun 06 11:38:44) [11/26 -  42.31%] **Started  ** Task 21: sample2markers.py\n",
      "(Jun 06 11:38:44) [12/26 -  46.15%] **Completed** Task  2: metaphlan2.py\n",
      "(Jun 06 11:38:44) [12/26 -  46.15%] **Ready    ** Task 19: sample2markers.py\n",
      "(Jun 06 11:38:44) [12/26 -  46.15%] **Ready    ** Task 13: humann2\n",
      "(Jun 06 11:38:47) [12/26 -  46.15%] **Started  ** Task 15: humann2\n",
      "(Jun 06 11:38:47) [13/26 -  50.00%] **Completed** Task  0: metaphlan2.py\n",
      "(Jun 06 11:38:47) [13/26 -  50.00%] **Ready    ** Task 18: sample2markers.py\n",
      "(Jun 06 11:38:47) [13/26 -  50.00%] **Ready    ** Task 12: humann2\n",
      "(Jun 06 11:39:29) [13/26 -  50.00%] **Started  ** Task 20: sample2markers.py\n",
      "(Jun 06 11:39:29) [14/26 -  53.85%] **Completed** Task 17: humann2\n",
      "(Jun 06 11:39:31) [15/26 -  57.69%] **Started  ** Task 14: humann2\n",
      "(Jun 06 11:39:31) [15/26 -  57.69%] **Completed** Task 16: humann2\n",
      "(Jun 06 11:39:49) [15/26 -  57.69%] **Started  ** Task 19: sample2markers.py\n",
      "(Jun 06 11:39:49) [16/26 -  61.54%] **Completed** Task 15: humann2\n",
      "(Jun 06 11:40:28) [16/26 -  61.54%] **Started  ** Task 13: humann2\n",
      "(Jun 06 11:40:28) [17/26 -  65.38%] **Completed** Task 14: humann2\n",
      "(Jun 06 11:41:32) [18/26 -  69.23%] **Started  ** Task 18: sample2markers.py\n",
      "(Jun 06 11:41:32) [18/26 -  69.23%] **Completed** Task 13: humann2\n",
      "(Jun 06 11:42:00) [19/26 -  73.08%] **Started  ** Task 12: humann2\n",
      "(Jun 06 11:42:00) [19/26 -  73.08%] **Completed** Task 22: sample2markers.py\n",
      "(Jun 06 11:42:15) [20/26 -  76.92%] **Completed** Task 23: sample2markers.py\n",
      "(Jun 06 11:42:17) [21/26 -  80.77%] **Completed** Task 21: sample2markers.py\n",
      "(Jun 06 11:42:50) [22/26 -  84.62%] **Completed** Task 12: humann2\n",
      "(Jun 06 11:43:01) [23/26 -  88.46%] **Completed** Task 20: sample2markers.py\n",
      "(Jun 06 11:43:20) [24/26 -  92.31%] **Completed** Task 19: sample2markers.py\n",
      "(Jun 06 11:44:49) [25/26 -  96.15%] **Started  ** Task 24: strainphlan.py\n",
      "(Jun 06 11:44:49) [25/26 -  96.15%] **Completed** Task 18: sample2markers.py\n",
      "(Jun 06 11:44:49) [25/26 -  96.15%] **Ready    ** Task 24: strainphlan.py\n",
      "(Jun 06 11:45:20) [26/26 - 100.00%] **Completed** Task 24: strainphlan.py\n",
      "Run Finished\n"
     ]
    }
   ],
   "source": [
    "workflow.go(jobs=6)"
   ]
  }
 ],
 "metadata": {
  "kernelspec": {
   "display_name": "Python 2",
   "language": "python",
   "name": "python2"
  },
  "language_info": {
   "codemirror_mode": {
    "name": "ipython",
    "version": 2
   },
   "file_extension": ".py",
   "mimetype": "text/x-python",
   "name": "python",
   "nbconvert_exporter": "python",
   "pygments_lexer": "ipython2",
   "version": "2.7.11"
  }
 },
 "nbformat": 4,
 "nbformat_minor": 2
}
